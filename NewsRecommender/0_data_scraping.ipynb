{
 "cells": [
  {
   "cell_type": "code",
   "execution_count": 23,
   "metadata": {
    "collapsed": true
   },
   "outputs": [],
   "source": [
    "#!/usr/bin/python\n",
    "\n",
    "#-----------------------------------------------------------------------\n",
    "# twitter-retweets\n",
    "#  - print who has retweeted tweets from a given user's timeline\n",
    "#-----------------------------------------------------------------------\n",
    "\n",
    "from twitter import *\n",
    "from pymongo import MongoClient\n",
    "import json\n",
    "import time\n",
    "\n",
    "client = MongoClient('localhost',27017)\n",
    "db = client['twitter']"
   ]
  },
  {
   "cell_type": "code",
   "execution_count": 24,
   "metadata": {
    "collapsed": true
   },
   "outputs": [],
   "source": [
    "#-----------------------------------------------------------------------\n",
    "# load our API credentials \n",
    "#-----------------------------------------------------------------------\n",
    "config = {\"access_key\": \"1524010849307820033-Ba6oGqY8YvsQ293CjE3AZI2gYvGxLD\", \"access_secret\": \"iEhrUDW1BHiyJHXXEAn175RFK6enRIYe4qyngyTjYgWjH\", \"consumer_key\": \"MBMOo6lLqogI6KUe2F7V56wff\", \"consumer_secret\": \"U9WIjWXe1TKprUsqttgvn1W8RHxYcDjnOrydEzHeWPzAlPIsiL\"}\n",
    "# execfile(\"config.py\", config)"
   ]
  },
  {
   "cell_type": "code",
   "execution_count": 25,
   "metadata": {
    "collapsed": true
   },
   "outputs": [],
   "source": [
    "def pp_json(json_thing, sort=True, indents=4):\n",
    "    if type(json_thing) is str:\n",
    "        print(json.dumps(json.loads(json_thing), sort_keys=sort, indent=indents))\n",
    "    else:\n",
    "        print(json.dumps(json_thing, sort_keys=sort, indent=indents))\n",
    "    return None"
   ]
  },
  {
   "cell_type": "code",
   "execution_count": 26,
   "metadata": {
    "collapsed": true
   },
   "outputs": [],
   "source": [
    "#-----------------------------------------------------------------------\n",
    "# create twitter API object\n",
    "#-----------------------------------------------------------------------\n",
    "twitter = Twitter(auth = OAuth(config[\"access_key\"], config[\"access_secret\"], config[\"consumer_key\"], config[\"consumer_secret\"]))"
   ]
  },
  {
   "cell_type": "code",
   "execution_count": 27,
   "metadata": {
    "collapsed": false
   },
   "outputs": [],
   "source": [
    "#-----------------------------------------------------------------------\n",
    "# loop through each of my statuses, and print its content\n",
    "#-----------------------------------------------------------------------\n",
    "def get_posts(user):\n",
    "    print (db.posts.find({\"user.screen_name\": user}).count())\n",
    "    prev_id = 0\n",
    "    for status in db.posts.find({\"user.screen_name\": user}).sort([(\"id\", 1)]).limit(1):\n",
    "        prev_id = status[\"id\"]\n",
    "\n",
    "    while True:\n",
    "        try:\n",
    "            if prev_id != 0:\n",
    "                results = twitter.statuses.user_timeline(screen_name=user, max_id = prev_id, count=200)\n",
    "            elif last_id != 0:\n",
    "                results = twitter.statuses.user_timeline(screen_name=user, since_id = last_id, count=200)\n",
    "            else:\n",
    "                results = twitter.statuses.user_timeline(screen_name=user, count=200)\n",
    "            for status in results:\n",
    "                #print \"@%s %s \\n%s\" % (user, status[\"id\"], status[\"text\"])\n",
    "                db.posts.insert_one(status)\n",
    "            print (db.posts.find({\"user.screen_name\": user}).count())\n",
    "            prev_id = results[-1][\"id\"]\n",
    "        except:\n",
    "            print (\"sleeping...\")\n",
    "            pp_json(twitter.application.rate_limit_status()[\"resources\"][\"statuses\"][\"/statuses/user_timeline\"])\n",
    "            time.sleep(60*15)"
   ]
  },
  {
   "cell_type": "code",
   "execution_count": 28,
   "metadata": {
    "collapsed": false
   },
   "outputs": [],
   "source": [
    "#-----------------------------------------------------------------------\n",
    "# loop through each of user's statuses, and get retweeter list \n",
    "#-----------------------------------------------------------------------\n",
    "def get_retweeter_list_from_posts(user):\n",
    "    print (db.posts.find({\"user.screen_name\": user}).count())\n",
    "    users = {}\n",
    "    i = 0\n",
    "    for status in db.posts.find({\"user.screen_name\": user}, {\"id\":1, \"text\":1, \"created_at\":1}, no_cursor_timeout=True):\n",
    "        if db.retweeter_list.find_one({\"tweet_id\": status[\"id\"]}):\n",
    "            continue\n",
    "        else:\n",
    "            #print \"@%s %s %s \" % (user, status[\"text\"], status[\"created_at\"]) \n",
    "            #print status[\"id\"]\n",
    "            if i%100 == 0:\n",
    "                pp_json(twitter.application.rate_limit_status()[\"resources\"][\"statuses\"][\"/statuses/retweeters/ids\"])\n",
    "                print (db.retweeter_list.count())\n",
    "            i += 1\n",
    "            try:\n",
    "                retweets = twitter.statuses.retweeters.ids(_id=status[\"id\"])\n",
    "                db.retweeter_list.update({\"tweet_id\": status[\"id\"]}, {'$set': {\"retweeters\": retweets[\"ids\"]}}, upsert=True)\n",
    "            except:\n",
    "                print (\"sleeping...\")\n",
    "                pp_json(twitter.application.rate_limit_status()[\"resources\"][\"statuses\"][\"/statuses/retweeters/ids\"])\n",
    "                time.sleep(60*15)"
   ]
  },
  {
   "cell_type": "code",
   "execution_count": 29,
   "metadata": {
    "collapsed": true
   },
   "outputs": [],
   "source": [
    "#-----------------------------------------------------------------------\n",
    "# loop through retweeter list, and get the users infomation\n",
    "#-----------------------------------------------------------------------\n",
    "def get_users_from_retweeter_list():\n",
    "    i = 0\n",
    "    count = 0\n",
    "    for retweeter_list in db.retweeter_list.find({}, {\"tweet_id\":1, \"retweeters\":1}, no_cursor_timeout=True):\n",
    "        if db.users.find_one({\"tweet_id\": retweeter_list[\"tweet_id\"] }):\n",
    "            continue\n",
    "        else:\n",
    "            \n",
    "            if i%100 == 0:\n",
    "                pp_json(twitter.application.rate_limit_status()[\"resources\"][\"users\"][\"/users/lookup\"])\n",
    "            i += 1\n",
    "            try:\n",
    "                if len(retweeter_list[\"retweeters\"]) > 0:\n",
    "                    retweeters = twitter.users.lookup(user_id=retweeter_list[\"retweeters\"])\n",
    "                    count += 1\n",
    "                    for i in range(len(retweeters)):\n",
    "                        print (\"@%s %s \" % (retweeters[i][\"id\"], retweeters[i][\"name\"]))\n",
    "                        db.users.insert_one({\"tweet_id\": retweeter_list[\"tweet_id\"], \"user\": retweeters[i]})\n",
    "                    print (\"number of retweeters: \", retweeter_list[\"tweet_id\"], len(retweeter_list[\"retweeters\"]))\n",
    "                if count == 900:\n",
    "                    print (\"sleeping...\")\n",
    "                    count = 0\n",
    "                    pp_json(twitter.application.rate_limit_status()[\"resources\"][\"users\"][\"/users/lookup\"])\n",
    "                    time.sleep(60*15)\n",
    "            except:\n",
    "                continue"
   ]
  },
  {
   "cell_type": "code",
   "execution_count": 30,
   "metadata": {
    "collapsed": false
   },
   "outputs": [
    {
     "ename": "ServerSelectionTimeoutError",
     "evalue": "localhost:27017: [Errno 111] Connection refused, Timeout: 30s, Topology Description: <TopologyDescription id: 627a70681433aa16637ebc9d, topology_type: Unknown, servers: [<ServerDescription ('localhost', 27017) server_type: Unknown, rtt: None, error=AutoReconnect('localhost:27017: [Errno 111] Connection refused')>]>",
     "output_type": "error",
     "traceback": [
      "\u001b[0;31m---------------------------------------------------------------------------\u001b[0m",
      "\u001b[0;31mServerSelectionTimeoutError\u001b[0m               Traceback (most recent call last)",
      "Input \u001b[0;32mIn [30]\u001b[0m, in \u001b[0;36m<cell line: 2>\u001b[0;34m()\u001b[0m\n\u001b[1;32m      1\u001b[0m counts \u001b[38;5;241m=\u001b[39m {}\n\u001b[0;32m----> 2\u001b[0m \u001b[38;5;28;01mfor\u001b[39;00m retweeter_list \u001b[38;5;129;01min\u001b[39;00m db\u001b[38;5;241m.\u001b[39mretweeter_list\u001b[38;5;241m.\u001b[39mfind({}, {\u001b[38;5;124m\"\u001b[39m\u001b[38;5;124mtweet_id\u001b[39m\u001b[38;5;124m\"\u001b[39m:\u001b[38;5;241m1\u001b[39m, \u001b[38;5;124m\"\u001b[39m\u001b[38;5;124mretweeters\u001b[39m\u001b[38;5;124m\"\u001b[39m:\u001b[38;5;241m1\u001b[39m}, no_cursor_timeout\u001b[38;5;241m=\u001b[39m\u001b[38;5;28;01mTrue\u001b[39;00m):\n\u001b[1;32m      3\u001b[0m     name \u001b[38;5;241m=\u001b[39m db\u001b[38;5;241m.\u001b[39mposts\u001b[38;5;241m.\u001b[39mfind_one({\u001b[38;5;124m\"\u001b[39m\u001b[38;5;124mid\u001b[39m\u001b[38;5;124m\"\u001b[39m: retweeter_list[\u001b[38;5;124m\"\u001b[39m\u001b[38;5;124mtweet_id\u001b[39m\u001b[38;5;124m\"\u001b[39m]})[\u001b[38;5;124m\"\u001b[39m\u001b[38;5;124muser\u001b[39m\u001b[38;5;124m\"\u001b[39m][\u001b[38;5;124m\"\u001b[39m\u001b[38;5;124mscreen_name\u001b[39m\u001b[38;5;124m\"\u001b[39m]\n\u001b[1;32m      4\u001b[0m     db\u001b[38;5;241m.\u001b[39mretweeter_list\u001b[38;5;241m.\u001b[39mupdate_one({\u001b[38;5;124m\"\u001b[39m\u001b[38;5;124mtweet_id\u001b[39m\u001b[38;5;124m\"\u001b[39m: retweeter_list[\u001b[38;5;124m\"\u001b[39m\u001b[38;5;124mtweet_id\u001b[39m\u001b[38;5;124m\"\u001b[39m]}, {\u001b[38;5;124m'\u001b[39m\u001b[38;5;124m$set\u001b[39m\u001b[38;5;124m'\u001b[39m: {\u001b[38;5;124m\"\u001b[39m\u001b[38;5;124msource\u001b[39m\u001b[38;5;124m\"\u001b[39m: name}}, upsert\u001b[38;5;241m=\u001b[39m\u001b[38;5;28;01mTrue\u001b[39;00m)\n",
      "File \u001b[0;32m~/Documents/NMXLNNTN/seminar/venv/lib/python3.9/site-packages/pymongo/cursor.py:1248\u001b[0m, in \u001b[0;36mCursor.next\u001b[0;34m(self)\u001b[0m\n\u001b[1;32m   1246\u001b[0m \u001b[38;5;28;01mif\u001b[39;00m \u001b[38;5;28mself\u001b[39m\u001b[38;5;241m.\u001b[39m__empty:\n\u001b[1;32m   1247\u001b[0m     \u001b[38;5;28;01mraise\u001b[39;00m \u001b[38;5;167;01mStopIteration\u001b[39;00m\n\u001b[0;32m-> 1248\u001b[0m \u001b[38;5;28;01mif\u001b[39;00m \u001b[38;5;28mlen\u001b[39m(\u001b[38;5;28mself\u001b[39m\u001b[38;5;241m.\u001b[39m__data) \u001b[38;5;129;01mor\u001b[39;00m \u001b[38;5;28;43mself\u001b[39;49m\u001b[38;5;241;43m.\u001b[39;49m\u001b[43m_refresh\u001b[49m\u001b[43m(\u001b[49m\u001b[43m)\u001b[49m:\n\u001b[1;32m   1249\u001b[0m     \u001b[38;5;28;01mreturn\u001b[39;00m \u001b[38;5;28mself\u001b[39m\u001b[38;5;241m.\u001b[39m__data\u001b[38;5;241m.\u001b[39mpopleft()\n\u001b[1;32m   1250\u001b[0m \u001b[38;5;28;01melse\u001b[39;00m:\n",
      "File \u001b[0;32m~/Documents/NMXLNNTN/seminar/venv/lib/python3.9/site-packages/pymongo/cursor.py:1139\u001b[0m, in \u001b[0;36mCursor._refresh\u001b[0;34m(self)\u001b[0m\n\u001b[1;32m   1136\u001b[0m     \u001b[38;5;28;01mreturn\u001b[39;00m \u001b[38;5;28mlen\u001b[39m(\u001b[38;5;28mself\u001b[39m\u001b[38;5;241m.\u001b[39m__data)\n\u001b[1;32m   1138\u001b[0m \u001b[38;5;28;01mif\u001b[39;00m \u001b[38;5;129;01mnot\u001b[39;00m \u001b[38;5;28mself\u001b[39m\u001b[38;5;241m.\u001b[39m__session:\n\u001b[0;32m-> 1139\u001b[0m     \u001b[38;5;28mself\u001b[39m\u001b[38;5;241m.\u001b[39m__session \u001b[38;5;241m=\u001b[39m \u001b[38;5;28;43mself\u001b[39;49m\u001b[38;5;241;43m.\u001b[39;49m\u001b[43m__collection\u001b[49m\u001b[38;5;241;43m.\u001b[39;49m\u001b[43mdatabase\u001b[49m\u001b[38;5;241;43m.\u001b[39;49m\u001b[43mclient\u001b[49m\u001b[38;5;241;43m.\u001b[39;49m\u001b[43m_ensure_session\u001b[49m\u001b[43m(\u001b[49m\u001b[43m)\u001b[49m\n\u001b[1;32m   1141\u001b[0m \u001b[38;5;28;01mif\u001b[39;00m \u001b[38;5;28mself\u001b[39m\u001b[38;5;241m.\u001b[39m__id \u001b[38;5;129;01mis\u001b[39;00m \u001b[38;5;28;01mNone\u001b[39;00m:  \u001b[38;5;66;03m# Query\u001b[39;00m\n\u001b[1;32m   1142\u001b[0m     \u001b[38;5;28;01mif\u001b[39;00m (\u001b[38;5;28mself\u001b[39m\u001b[38;5;241m.\u001b[39m__min \u001b[38;5;129;01mor\u001b[39;00m \u001b[38;5;28mself\u001b[39m\u001b[38;5;241m.\u001b[39m__max) \u001b[38;5;129;01mand\u001b[39;00m \u001b[38;5;129;01mnot\u001b[39;00m \u001b[38;5;28mself\u001b[39m\u001b[38;5;241m.\u001b[39m__hint:\n",
      "File \u001b[0;32m~/Documents/NMXLNNTN/seminar/venv/lib/python3.9/site-packages/pymongo/mongo_client.py:1663\u001b[0m, in \u001b[0;36mMongoClient._ensure_session\u001b[0;34m(self, session)\u001b[0m\n\u001b[1;32m   1658\u001b[0m     \u001b[38;5;28;01mreturn\u001b[39;00m session\n\u001b[1;32m   1660\u001b[0m \u001b[38;5;28;01mtry\u001b[39;00m:\n\u001b[1;32m   1661\u001b[0m     \u001b[38;5;66;03m# Don't make implicit sessions causally consistent. Applications\u001b[39;00m\n\u001b[1;32m   1662\u001b[0m     \u001b[38;5;66;03m# should always opt-in.\u001b[39;00m\n\u001b[0;32m-> 1663\u001b[0m     \u001b[38;5;28;01mreturn\u001b[39;00m \u001b[38;5;28;43mself\u001b[39;49m\u001b[38;5;241;43m.\u001b[39;49m\u001b[43m__start_session\u001b[49m\u001b[43m(\u001b[49m\u001b[38;5;28;43;01mTrue\u001b[39;49;00m\u001b[43m,\u001b[49m\u001b[43m \u001b[49m\u001b[43mcausal_consistency\u001b[49m\u001b[38;5;241;43m=\u001b[39;49m\u001b[38;5;28;43;01mFalse\u001b[39;49;00m\u001b[43m)\u001b[49m\n\u001b[1;32m   1664\u001b[0m \u001b[38;5;28;01mexcept\u001b[39;00m (ConfigurationError, InvalidOperation):\n\u001b[1;32m   1665\u001b[0m     \u001b[38;5;66;03m# Sessions not supported.\u001b[39;00m\n\u001b[1;32m   1666\u001b[0m     \u001b[38;5;28;01mreturn\u001b[39;00m \u001b[38;5;28;01mNone\u001b[39;00m\n",
      "File \u001b[0;32m~/Documents/NMXLNNTN/seminar/venv/lib/python3.9/site-packages/pymongo/mongo_client.py:1608\u001b[0m, in \u001b[0;36mMongoClient.__start_session\u001b[0;34m(self, implicit, **kwargs)\u001b[0m\n\u001b[1;32m   1605\u001b[0m \u001b[38;5;28;01mdef\u001b[39;00m \u001b[38;5;21m__start_session\u001b[39m(\u001b[38;5;28mself\u001b[39m, implicit, \u001b[38;5;241m*\u001b[39m\u001b[38;5;241m*\u001b[39mkwargs):\n\u001b[1;32m   1606\u001b[0m     \u001b[38;5;66;03m# Raises ConfigurationError if sessions are not supported.\u001b[39;00m\n\u001b[1;32m   1607\u001b[0m     \u001b[38;5;28;01mif\u001b[39;00m implicit:\n\u001b[0;32m-> 1608\u001b[0m         \u001b[38;5;28;43mself\u001b[39;49m\u001b[38;5;241;43m.\u001b[39;49m\u001b[43m_topology\u001b[49m\u001b[38;5;241;43m.\u001b[39;49m\u001b[43m_check_implicit_session_support\u001b[49m\u001b[43m(\u001b[49m\u001b[43m)\u001b[49m\n\u001b[1;32m   1609\u001b[0m         server_session \u001b[38;5;241m=\u001b[39m _EmptyServerSession()\n\u001b[1;32m   1610\u001b[0m     \u001b[38;5;28;01melse\u001b[39;00m:\n",
      "File \u001b[0;32m~/Documents/NMXLNNTN/seminar/venv/lib/python3.9/site-packages/pymongo/topology.py:519\u001b[0m, in \u001b[0;36mTopology._check_implicit_session_support\u001b[0;34m(self)\u001b[0m\n\u001b[1;32m    517\u001b[0m \u001b[38;5;28;01mdef\u001b[39;00m \u001b[38;5;21m_check_implicit_session_support\u001b[39m(\u001b[38;5;28mself\u001b[39m):\n\u001b[1;32m    518\u001b[0m     \u001b[38;5;28;01mwith\u001b[39;00m \u001b[38;5;28mself\u001b[39m\u001b[38;5;241m.\u001b[39m_lock:\n\u001b[0;32m--> 519\u001b[0m         \u001b[38;5;28;43mself\u001b[39;49m\u001b[38;5;241;43m.\u001b[39;49m\u001b[43m_check_session_support\u001b[49m\u001b[43m(\u001b[49m\u001b[43m)\u001b[49m\n",
      "File \u001b[0;32m~/Documents/NMXLNNTN/seminar/venv/lib/python3.9/site-packages/pymongo/topology.py:535\u001b[0m, in \u001b[0;36mTopology._check_session_support\u001b[0;34m(self)\u001b[0m\n\u001b[1;32m    531\u001b[0m         \u001b[38;5;28mself\u001b[39m\u001b[38;5;241m.\u001b[39m_select_servers_loop(\n\u001b[1;32m    532\u001b[0m             any_server_selector, \u001b[38;5;28mself\u001b[39m\u001b[38;5;241m.\u001b[39m_settings\u001b[38;5;241m.\u001b[39mserver_selection_timeout, \u001b[38;5;28;01mNone\u001b[39;00m\n\u001b[1;32m    533\u001b[0m         )\n\u001b[1;32m    534\u001b[0m \u001b[38;5;28;01melif\u001b[39;00m \u001b[38;5;129;01mnot\u001b[39;00m \u001b[38;5;28mself\u001b[39m\u001b[38;5;241m.\u001b[39m_description\u001b[38;5;241m.\u001b[39mreadable_servers:\n\u001b[0;32m--> 535\u001b[0m     \u001b[38;5;28;43mself\u001b[39;49m\u001b[38;5;241;43m.\u001b[39;49m\u001b[43m_select_servers_loop\u001b[49m\u001b[43m(\u001b[49m\n\u001b[1;32m    536\u001b[0m \u001b[43m        \u001b[49m\u001b[43mreadable_server_selector\u001b[49m\u001b[43m,\u001b[49m\u001b[43m \u001b[49m\u001b[38;5;28;43mself\u001b[39;49m\u001b[38;5;241;43m.\u001b[39;49m\u001b[43m_settings\u001b[49m\u001b[38;5;241;43m.\u001b[39;49m\u001b[43mserver_selection_timeout\u001b[49m\u001b[43m,\u001b[49m\u001b[43m \u001b[49m\u001b[38;5;28;43;01mNone\u001b[39;49;00m\n\u001b[1;32m    537\u001b[0m \u001b[43m    \u001b[49m\u001b[43m)\u001b[49m\n\u001b[1;32m    539\u001b[0m session_timeout \u001b[38;5;241m=\u001b[39m \u001b[38;5;28mself\u001b[39m\u001b[38;5;241m.\u001b[39m_description\u001b[38;5;241m.\u001b[39mlogical_session_timeout_minutes\n\u001b[1;32m    540\u001b[0m \u001b[38;5;28;01mif\u001b[39;00m session_timeout \u001b[38;5;129;01mis\u001b[39;00m \u001b[38;5;28;01mNone\u001b[39;00m:\n",
      "File \u001b[0;32m~/Documents/NMXLNNTN/seminar/venv/lib/python3.9/site-packages/pymongo/topology.py:227\u001b[0m, in \u001b[0;36mTopology._select_servers_loop\u001b[0;34m(self, selector, timeout, address)\u001b[0m\n\u001b[1;32m    224\u001b[0m \u001b[38;5;28;01mwhile\u001b[39;00m \u001b[38;5;129;01mnot\u001b[39;00m server_descriptions:\n\u001b[1;32m    225\u001b[0m     \u001b[38;5;66;03m# No suitable servers.\u001b[39;00m\n\u001b[1;32m    226\u001b[0m     \u001b[38;5;28;01mif\u001b[39;00m timeout \u001b[38;5;241m==\u001b[39m \u001b[38;5;241m0\u001b[39m \u001b[38;5;129;01mor\u001b[39;00m now \u001b[38;5;241m>\u001b[39m end_time:\n\u001b[0;32m--> 227\u001b[0m         \u001b[38;5;28;01mraise\u001b[39;00m ServerSelectionTimeoutError(\n\u001b[1;32m    228\u001b[0m             \u001b[38;5;124m\"\u001b[39m\u001b[38;5;132;01m%s\u001b[39;00m\u001b[38;5;124m, Timeout: \u001b[39m\u001b[38;5;132;01m%s\u001b[39;00m\u001b[38;5;124ms, Topology Description: \u001b[39m\u001b[38;5;132;01m%r\u001b[39;00m\u001b[38;5;124m\"\u001b[39m\n\u001b[1;32m    229\u001b[0m             \u001b[38;5;241m%\u001b[39m (\u001b[38;5;28mself\u001b[39m\u001b[38;5;241m.\u001b[39m_error_message(selector), timeout, \u001b[38;5;28mself\u001b[39m\u001b[38;5;241m.\u001b[39mdescription)\n\u001b[1;32m    230\u001b[0m         )\n\u001b[1;32m    232\u001b[0m     \u001b[38;5;28mself\u001b[39m\u001b[38;5;241m.\u001b[39m_ensure_opened()\n\u001b[1;32m    233\u001b[0m     \u001b[38;5;28mself\u001b[39m\u001b[38;5;241m.\u001b[39m_request_check_all()\n",
      "\u001b[0;31mServerSelectionTimeoutError\u001b[0m: localhost:27017: [Errno 111] Connection refused, Timeout: 30s, Topology Description: <TopologyDescription id: 627a70681433aa16637ebc9d, topology_type: Unknown, servers: [<ServerDescription ('localhost', 27017) server_type: Unknown, rtt: None, error=AutoReconnect('localhost:27017: [Errno 111] Connection refused')>]>"
     ]
    }
   ],
   "source": [
    "counts = {}\n",
    "for retweeter_list in db.retweeter_list.find({}, {\"tweet_id\":1, \"retweeters\":1}, no_cursor_timeout=True):\n",
    "    name = db.posts.find_one({\"id\": retweeter_list[\"tweet_id\"]})[\"user\"][\"screen_name\"]\n",
    "    db.retweeter_list.update_one({\"tweet_id\": retweeter_list[\"tweet_id\"]}, {'$set': {\"source\": name}}, upsert=True)"
   ]
  },
  {
   "cell_type": "code",
   "execution_count": 15,
   "metadata": {
    "collapsed": false
   },
   "outputs": [
    {
     "name": "stdout",
     "output_type": "stream",
     "text": [
      "{}\n"
     ]
    }
   ],
   "source": [
    "print (counts)"
   ]
  },
  {
   "cell_type": "code",
   "execution_count": null,
   "metadata": {
    "collapsed": false
   },
   "outputs": [],
   "source": [
    "for user in db.users.find({}, {\"tweet_id\":1}, no_cursor_timeout=True):\n",
    "    name = db.posts.find_one({\"id\": user[\"tweet_id\"]})[\"user\"][\"screen_name\"]\n",
    "    db.users.update_one({\"tweet_id\": user[\"tweet_id\"]}, {'$set': {\"source\": name}}, upsert=True)"
   ]
  },
  {
   "cell_type": "code",
   "execution_count": 1,
   "metadata": {
    "collapsed": true
   },
   "outputs": [],
   "source": [
    "import newspaper\n",
    "from newspaper import Article"
   ]
  },
  {
   "cell_type": "code",
   "execution_count": 2,
   "metadata": {
    "collapsed": true
   },
   "outputs": [],
   "source": [
    "def get_article(url):\n",
    "    a = Article(url, language='en')\n",
    "    a.download()\n",
    "    a.parse()\n",
    "    return a"
   ]
  },
  {
   "cell_type": "code",
   "execution_count": 3,
   "metadata": {
    "collapsed": true
   },
   "outputs": [],
   "source": [
    "def article_to_document(article, idx):\n",
    "    document = {\"top_image\":article.top_image, \"text\": article.text, \"title\": article.title, \"id\": idx, \"authors\": article.authors}\n",
    "    document[\"images\"] = article.images\n",
    "    document[\"movies\"] = article.movies\n",
    "    article.nlp()\n",
    "    document[\"summary\"] = article.summary\n",
    "    document[\"keywords\"] = article.keywords\n",
    "    return document"
   ]
  },
  {
   "cell_type": "code",
   "execution_count": null,
   "metadata": {
    "collapsed": true
   },
   "outputs": [],
   "source": []
  }
 ],
 "metadata": {
  "interpreter": {
   "hash": "f64e7acd0e2fdbf809d635a64b06b5477d6af528279d07d6388c893fab38534b"
  },
  "kernelspec": {
   "display_name": "Python 2",
   "language": "python",
   "name": "python3"
  },
  "language_info": {
   "codemirror_mode": {
    "name": "ipython",
    "version": 3
   },
   "file_extension": ".py",
   "mimetype": "text/x-python",
   "name": "python",
   "nbconvert_exporter": "python",
   "pygments_lexer": "ipython3",
   "version": "3.9.7"
  }
 },
 "nbformat": 4,
 "nbformat_minor": 1
}
